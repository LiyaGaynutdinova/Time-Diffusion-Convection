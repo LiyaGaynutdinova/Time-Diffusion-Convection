{
 "cells": [
  {
   "cell_type": "code",
   "execution_count": 3,
   "metadata": {},
   "outputs": [],
   "source": [
    "import numpy as np\n",
    "import matplotlib.pyplot as plt\n",
    "from matplotlib.animation import FuncAnimation"
   ]
  },
  {
   "cell_type": "markdown",
   "metadata": {},
   "source": [
    "## Propagation of elastic waves in a 1D domain\n",
    "\n",
    "\\begin{align}\n",
    "    \\frac{\\partial}{\\partial x}\n",
    "    \\sigma( x, t ) {\\color{red}+f(x,t)}\n",
    "    & = \n",
    "    \\rho( x ) \\frac{\\partial^2}{\\partial t^2} \n",
    "    u( x, t )\n",
    "    & \\text{for }\n",
    "    (x, t) \\in \\Omega \\times (0, T)\n",
    "    \\\\\n",
    "    u( x_0, t ) & = U( t ) \n",
    "    & \\text{for } t \\in (0, T)\n",
    "    \\\\\n",
    "    u(x, t), & \\, \\sigma(x, t)\n",
    "    &\n",
    "    \\Omega\\text{-periodic} \\\\\n",
    "    u(x, 0) & = u_0( x )\n",
    "    & \\text{for }\n",
    "    x \\in \\Omega \\\\\n",
    "    \\frac{\\partial}{\\partial t} u(x, 0) & = v_0( x )\n",
    "    & \\text{for }\n",
    "    x \\in \\Omega \\\\\n",
    "    \\sigma(x, t)\n",
    "    & = \n",
    "    E( x ) \\frac{\\partial}{\\partial x} u(x, t)\n",
    "    & \\text{for }    \n",
    "    (x, t) \\in \\Omega \\times (0, T)\n",
    "\\end{align}"
   ]
  },
  {
   "cell_type": "code",
   "execution_count": 4,
   "metadata": {},
   "outputs": [],
   "source": [
    "func_rho = lambda x: 2700. # spatial distribution of density\n",
    "func_E = lambda x: 70.3e9 # spatial distribution of Young’s modulus\n",
    "func_u0 = lambda x: 0 * x # inital u_0\n",
    "func_v0 = lambda x: 0 * x # initial derivation of u, periodical\n",
    "\n",
    "def func_Ut(x0, t, L=2): # The perturbation as a prescribed displacement u(x_0, t) = U(t)\n",
    "    A = 0.001\n",
    "    alpha = 4\n",
    "    c0 = np.sqrt(func_E(x0) / func_rho(x0))\n",
    "    omega = 5 * np.pi * c0 / L\n",
    "    if  t < np.pi/omega: \n",
    "        return A*(t * (np.pi/omega - t))**alpha / ((np.pi/omega)**2 / 4)**alpha\n",
    "    else:\n",
    "        return 0."
   ]
  },
  {
   "cell_type": "markdown",
   "metadata": {},
   "source": [
    "### Finite difference method"
   ]
  },
  {
   "cell_type": "code",
   "execution_count": 49,
   "metadata": {},
   "outputs": [],
   "source": [
    "solutions_in_time = []\n",
    "\n",
    "L = 2 # length of the domain in the spatial dimension x\n",
    "T = 3.9919e-4 # length of the time frame\n",
    "Nx = 157 # number of intervals in x\n",
    "Nt = 239 # number of intervals in t\n",
    "x = np.linspace(0, L, Nx+1)\n",
    "dx = L / Nx\n",
    "dt = T / Nt\n",
    "\n",
    "# Newmark constants for the integration scheme\n",
    "beta = 0.25 \n",
    "gamma = 0.5\n",
    "\n",
    "index_x0 = np.round(Nx/2).astype(int) # placing of the perturbation\n",
    "x0 = np.zeros(Nx) # displacements on discretized spatial domain at t=0\n",
    "x0[index_x0] = 1\n",
    "Ft = np.zeros(Nt+1)\n",
    "\n",
    "K = np.zeros((Nx, Nx))\n",
    "D_rho = np.zeros(Nx)\n",
    "D_E = np.zeros(Nx)\n",
    "fd_mat = np.array([[-1, 1], [1, -1]])\n",
    "\n",
    "for i in range(Nx):\n",
    "    D_rho[i] = func_rho(x[i])\n",
    "    D_E[i] = func_E(x[i])\n",
    "    dE1 = func_E(i*dx - dx/2) / (2 * dx**2)\n",
    "    dE2 = func_E(i*dx + dx/2) / (2 * dx**2)\n",
    "    if i > 0:\n",
    "        K[np.ix_(np.arange(i-1, i+1), np.arange(i-1, i+1))] += dE1 * fd_mat\n",
    "    else:\n",
    "        K[np.ix_([-1, 0], [-1, 0])] += dE1 * fd_mat\n",
    "    if i < Nx-1:\n",
    "        K[np.ix_(np.arange(i, i+2), np.arange(i, i+2))] += dE2 * fd_mat\n",
    "    else:\n",
    "        K[np.ix_([-1, 0], [-1, 0])] += dE2 * fd_mat\n",
    "\n",
    "K_rho = -beta * dt**2 * K + np.diag(D_rho)\n",
    "u0 = func_u0(x[:-1])\n",
    "dt_u0 =  func_v0(x[:-1])\n",
    "dtdt_u0 =  K @ u0\n",
    "g0 = np.linalg.solve(K_rho, x0) # solution at t=0\n",
    "g0_x0 = g0[index_x0]\n",
    "t = 0\n",
    "all_solutions = [g0]\n",
    "\n",
    "for n in range(Nt):\n",
    "    t += dt\n",
    "    f = D_rho * (u0 + dt*dt_u0 + (dt**2)*(0.5 - beta)*dtdt_u0)\n",
    "    un = np.linalg.solve(K_rho, f)\n",
    "    Fn = (func_Ut(x0, t) - un[index_x0])/(beta * (dt**2) * g0_x0)\n",
    "    un += beta * (dt**2)* g0 * Fn\n",
    "    dtdt_un = 1/(beta * (dt**2)) * (un - u0 - dt*dt_u0 - (dt**2)*(0.5 - beta)*dtdt_u0)\n",
    "    dt_un = dt_u0 + dt*(1 - gamma)*dtdt_u0 + dt * gamma * dtdt_un\n",
    "    u0 = un\n",
    "    dt_u0 = dt_un\n",
    "    dtdt_u0 = dtdt_un\n",
    "    Ft[n] = Fn\n",
    "    all_solutions.append(un)"
   ]
  },
  {
   "cell_type": "code",
   "execution_count": 50,
   "metadata": {},
   "outputs": [
    {
     "name": "stderr",
     "output_type": "stream",
     "text": [
      "MovieWriter imagemagick unavailable; using Pillow instead.\n"
     ]
    },
    {
     "data": {
      "image/png": "[encoded data removed]",
      "text/plain": [
       "<Figure size 640x480 with 1 Axes>"
      ]
     },
     "metadata": {},
     "output_type": "display_data"
    }
   ],
   "source": [
    "fig, ax = plt.subplots()\n",
    "ln, = plt.plot(x[:-1], all_solutions[0], 'b')\n",
    "ax.set_ylim([-0.0001, 0.002])\n",
    "\n",
    "def update(frame):\n",
    "    y = all_solutions[frame]\n",
    "    ln.set_ydata(y)\n",
    "    return ln,\n",
    "\n",
    "ani = FuncAnimation(fig, update, frames=np.arange(Nt), blit=True)\n",
    "ani.save('elastodynamics.gif', writer='Pillow')"
   ]
  }
 ],
 "metadata": {
  "kernelspec": {
   "display_name": "home",
   "language": "python",
   "name": "python3"
  },
  "language_info": {
   "codemirror_mode": {
    "name": "ipython",
    "version": 3
   },
   "file_extension": ".py",
   "mimetype": "text/x-python",
   "name": "python",
   "nbconvert_exporter": "python",
   "pygments_lexer": "ipython3",
   "version": "3.11.5"
  }
 },
 "nbformat": 4,
 "nbformat_minor": 2
}
